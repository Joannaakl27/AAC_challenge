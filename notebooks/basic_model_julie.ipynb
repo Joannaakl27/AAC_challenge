{
 "cells": [
  {
   "cell_type": "markdown",
   "id": "9cffc686",
   "metadata": {},
   "source": [
    "# Basic classification model of outcome"
   ]
  },
  {
   "cell_type": "markdown",
   "id": "bbf0fc8b",
   "metadata": {},
   "source": [
    "This notebook performs a simple binary classification on the outcomes of cats using a `logistic regression`."
   ]
  },
  {
   "cell_type": "markdown",
   "id": "d3107d96",
   "metadata": {},
   "source": [
    "## Imports"
   ]
  },
  {
   "cell_type": "code",
   "execution_count": 1,
   "id": "330ff4f9",
   "metadata": {},
   "outputs": [],
   "source": [
    "import datetime\n",
    "import pandas as pd\n",
    "import numpy as np\n",
    "from AAC_challenge import data\n",
    "from AAC_challenge import utils\n",
    "\n",
    "from sklearn.impute import SimpleImputer\n",
    "\n",
    "import warnings\n",
    "warnings.filterwarnings('ignore')\n",
    "\n",
    "%load_ext autoreload\n",
    "%autoreload 2"
   ]
  },
  {
   "cell_type": "markdown",
   "id": "097ebfcb",
   "metadata": {},
   "source": [
    "## Data loading and cleaning"
   ]
  },
  {
   "cell_type": "code",
   "execution_count": 70,
   "id": "7754373a",
   "metadata": {},
   "outputs": [
    {
     "data": {
      "text/html": [
       "<div>\n",
       "<style scoped>\n",
       "    .dataframe tbody tr th:only-of-type {\n",
       "        vertical-align: middle;\n",
       "    }\n",
       "\n",
       "    .dataframe tbody tr th {\n",
       "        vertical-align: top;\n",
       "    }\n",
       "\n",
       "    .dataframe thead th {\n",
       "        text-align: right;\n",
       "    }\n",
       "</style>\n",
       "<table border=\"1\" class=\"dataframe\">\n",
       "  <thead>\n",
       "    <tr style=\"text-align: right;\">\n",
       "      <th></th>\n",
       "      <th>breed</th>\n",
       "      <th>color</th>\n",
       "      <th>date_of_birth</th>\n",
       "      <th>outcome_datetime</th>\n",
       "      <th>outcome_type</th>\n",
       "      <th>sex</th>\n",
       "      <th>sterilized</th>\n",
       "      <th>periods</th>\n",
       "      <th>period_range</th>\n",
       "      <th>outcome_age_(days)</th>\n",
       "      <th>...</th>\n",
       "      <th>outcome_weekday</th>\n",
       "      <th>cfa_breed</th>\n",
       "      <th>domestic_breed</th>\n",
       "      <th>coat_pattern</th>\n",
       "      <th>main_color</th>\n",
       "      <th>coat</th>\n",
       "      <th>has_name</th>\n",
       "      <th>top_breeds</th>\n",
       "      <th>adopted_or_not</th>\n",
       "      <th>outcome_year_month</th>\n",
       "    </tr>\n",
       "  </thead>\n",
       "  <tbody>\n",
       "    <tr>\n",
       "      <th>0</th>\n",
       "      <td>domestic shorthair</td>\n",
       "      <td>orange</td>\n",
       "      <td>2014-07-07</td>\n",
       "      <td>2014-07-22</td>\n",
       "      <td>Transfer</td>\n",
       "      <td>0</td>\n",
       "      <td>0</td>\n",
       "      <td>2</td>\n",
       "      <td>7</td>\n",
       "      <td>14</td>\n",
       "      <td>...</td>\n",
       "      <td>Tuesday</td>\n",
       "      <td>0</td>\n",
       "      <td>1</td>\n",
       "      <td>tabby</td>\n",
       "      <td>orange</td>\n",
       "      <td>orange</td>\n",
       "      <td>0</td>\n",
       "      <td>domestic shorthair</td>\n",
       "      <td>0</td>\n",
       "      <td>2014-07-01</td>\n",
       "    </tr>\n",
       "    <tr>\n",
       "      <th>1</th>\n",
       "      <td>domestic shorthair</td>\n",
       "      <td>blue /white</td>\n",
       "      <td>2014-06-16</td>\n",
       "      <td>2014-08-14</td>\n",
       "      <td>Adoption</td>\n",
       "      <td>1</td>\n",
       "      <td>0</td>\n",
       "      <td>1</td>\n",
       "      <td>30</td>\n",
       "      <td>30</td>\n",
       "      <td>...</td>\n",
       "      <td>Thursday</td>\n",
       "      <td>0</td>\n",
       "      <td>1</td>\n",
       "      <td>tabby</td>\n",
       "      <td>blue</td>\n",
       "      <td>blue</td>\n",
       "      <td>1</td>\n",
       "      <td>domestic shorthair</td>\n",
       "      <td>1</td>\n",
       "      <td>2014-08-01</td>\n",
       "    </tr>\n",
       "    <tr>\n",
       "      <th>2</th>\n",
       "      <td>domestic shorthair</td>\n",
       "      <td>white/black</td>\n",
       "      <td>2014-03-26</td>\n",
       "      <td>2014-06-29</td>\n",
       "      <td>Adoption</td>\n",
       "      <td>1</td>\n",
       "      <td>1</td>\n",
       "      <td>3</td>\n",
       "      <td>30</td>\n",
       "      <td>90</td>\n",
       "      <td>...</td>\n",
       "      <td>Sunday</td>\n",
       "      <td>0</td>\n",
       "      <td>1</td>\n",
       "      <td>tabby</td>\n",
       "      <td>white</td>\n",
       "      <td>white</td>\n",
       "      <td>1</td>\n",
       "      <td>domestic shorthair</td>\n",
       "      <td>1</td>\n",
       "      <td>2014-06-01</td>\n",
       "    </tr>\n",
       "    <tr>\n",
       "      <th>3</th>\n",
       "      <td>domestic mediumhair</td>\n",
       "      <td>black/white</td>\n",
       "      <td>2013-03-27</td>\n",
       "      <td>2014-03-28</td>\n",
       "      <td>Return to Owner</td>\n",
       "      <td>1</td>\n",
       "      <td>1</td>\n",
       "      <td>1</td>\n",
       "      <td>365</td>\n",
       "      <td>365</td>\n",
       "      <td>...</td>\n",
       "      <td>Friday</td>\n",
       "      <td>0</td>\n",
       "      <td>1</td>\n",
       "      <td>tabby</td>\n",
       "      <td>black</td>\n",
       "      <td>black</td>\n",
       "      <td>1</td>\n",
       "      <td>domestic mediumhair</td>\n",
       "      <td>0</td>\n",
       "      <td>2014-03-01</td>\n",
       "    </tr>\n",
       "    <tr>\n",
       "      <th>4</th>\n",
       "      <td>domestic shorthair</td>\n",
       "      <td>black/white</td>\n",
       "      <td>2013-12-16</td>\n",
       "      <td>2014-01-09</td>\n",
       "      <td>Transfer</td>\n",
       "      <td>0</td>\n",
       "      <td>0</td>\n",
       "      <td>3</td>\n",
       "      <td>7</td>\n",
       "      <td>21</td>\n",
       "      <td>...</td>\n",
       "      <td>Thursday</td>\n",
       "      <td>0</td>\n",
       "      <td>1</td>\n",
       "      <td>tabby</td>\n",
       "      <td>black</td>\n",
       "      <td>black</td>\n",
       "      <td>0</td>\n",
       "      <td>domestic shorthair</td>\n",
       "      <td>0</td>\n",
       "      <td>2014-01-01</td>\n",
       "    </tr>\n",
       "  </tbody>\n",
       "</table>\n",
       "<p>5 rows × 24 columns</p>\n",
       "</div>"
      ],
      "text/plain": [
       "                 breed        color date_of_birth outcome_datetime  \\\n",
       "0   domestic shorthair       orange    2014-07-07       2014-07-22   \n",
       "1   domestic shorthair  blue /white    2014-06-16       2014-08-14   \n",
       "2   domestic shorthair  white/black    2014-03-26       2014-06-29   \n",
       "3  domestic mediumhair  black/white    2013-03-27       2014-03-28   \n",
       "4   domestic shorthair  black/white    2013-12-16       2014-01-09   \n",
       "\n",
       "      outcome_type  sex  sterilized periods period_range outcome_age_(days)  \\\n",
       "0         Transfer    0           0       2            7                 14   \n",
       "1         Adoption    1           0       1           30                 30   \n",
       "2         Adoption    1           1       3           30                 90   \n",
       "3  Return to Owner    1           1       1          365                365   \n",
       "4         Transfer    0           0       3            7                 21   \n",
       "\n",
       "   ... outcome_weekday  cfa_breed domestic_breed coat_pattern main_color  \\\n",
       "0  ...         Tuesday          0              1        tabby     orange   \n",
       "1  ...        Thursday          0              1        tabby      blue    \n",
       "2  ...          Sunday          0              1        tabby      white   \n",
       "3  ...          Friday          0              1        tabby      black   \n",
       "4  ...        Thursday          0              1        tabby      black   \n",
       "\n",
       "     coat  has_name           top_breeds adopted_or_not outcome_year_month  \n",
       "0  orange         0   domestic shorthair              0         2014-07-01  \n",
       "1   blue          1   domestic shorthair              1         2014-08-01  \n",
       "2   white         1   domestic shorthair              1         2014-06-01  \n",
       "3   black         1  domestic mediumhair              0         2014-03-01  \n",
       "4   black         0   domestic shorthair              0         2014-01-01  \n",
       "\n",
       "[5 rows x 24 columns]"
      ]
     },
     "execution_count": 70,
     "metadata": {},
     "output_type": "execute_result"
    }
   ],
   "source": [
    "cat_df = data.get_clean_cat_dataset('cats')\n",
    "#cat_df['top_breeds'] = cat_df.breed.apply(utils.map_top_breeds)\n",
    "cat_df.head()"
   ]
  },
  {
   "cell_type": "markdown",
   "id": "189e76d7",
   "metadata": {},
   "source": [
    "## Generating X and y"
   ]
  },
  {
   "cell_type": "code",
   "execution_count": 74,
   "id": "b5bcec39",
   "metadata": {},
   "outputs": [],
   "source": [
    "X, y = data.get_X_y()"
   ]
  },
  {
   "cell_type": "code",
   "execution_count": 75,
   "id": "ddb3de90",
   "metadata": {},
   "outputs": [
    {
     "data": {
      "text/html": [
       "<div>\n",
       "<style scoped>\n",
       "    .dataframe tbody tr th:only-of-type {\n",
       "        vertical-align: middle;\n",
       "    }\n",
       "\n",
       "    .dataframe tbody tr th {\n",
       "        vertical-align: top;\n",
       "    }\n",
       "\n",
       "    .dataframe thead th {\n",
       "        text-align: right;\n",
       "    }\n",
       "</style>\n",
       "<table border=\"1\" class=\"dataframe\">\n",
       "  <thead>\n",
       "    <tr style=\"text-align: right;\">\n",
       "      <th></th>\n",
       "      <th>kitten</th>\n",
       "      <th>sex</th>\n",
       "      <th>sterilized</th>\n",
       "      <th>cfa_breed</th>\n",
       "      <th>domestic_breed</th>\n",
       "      <th>has_name</th>\n",
       "      <th>x0_american shorthair</th>\n",
       "      <th>x0_domestic longhair</th>\n",
       "      <th>x0_domestic mediumhair</th>\n",
       "      <th>x0_domestic shorthair</th>\n",
       "      <th>...</th>\n",
       "      <th>x0_silver</th>\n",
       "      <th>x0_silver</th>\n",
       "      <th>x0_silver lynx</th>\n",
       "      <th>x0_silver lynx</th>\n",
       "      <th>x0_tan</th>\n",
       "      <th>x0_torbie</th>\n",
       "      <th>x0_tortie</th>\n",
       "      <th>x0_tricolor</th>\n",
       "      <th>x0_white</th>\n",
       "      <th>x0_yellow</th>\n",
       "    </tr>\n",
       "  </thead>\n",
       "  <tbody>\n",
       "    <tr>\n",
       "      <th>0</th>\n",
       "      <td>1</td>\n",
       "      <td>0</td>\n",
       "      <td>0</td>\n",
       "      <td>0</td>\n",
       "      <td>1</td>\n",
       "      <td>0</td>\n",
       "      <td>0.0</td>\n",
       "      <td>0.0</td>\n",
       "      <td>0.0</td>\n",
       "      <td>1.0</td>\n",
       "      <td>...</td>\n",
       "      <td>0.0</td>\n",
       "      <td>0.0</td>\n",
       "      <td>0.0</td>\n",
       "      <td>0.0</td>\n",
       "      <td>0.0</td>\n",
       "      <td>0.0</td>\n",
       "      <td>0.0</td>\n",
       "      <td>0.0</td>\n",
       "      <td>0.0</td>\n",
       "      <td>0.0</td>\n",
       "    </tr>\n",
       "    <tr>\n",
       "      <th>1</th>\n",
       "      <td>1</td>\n",
       "      <td>1</td>\n",
       "      <td>0</td>\n",
       "      <td>0</td>\n",
       "      <td>1</td>\n",
       "      <td>1</td>\n",
       "      <td>0.0</td>\n",
       "      <td>0.0</td>\n",
       "      <td>0.0</td>\n",
       "      <td>1.0</td>\n",
       "      <td>...</td>\n",
       "      <td>0.0</td>\n",
       "      <td>0.0</td>\n",
       "      <td>0.0</td>\n",
       "      <td>0.0</td>\n",
       "      <td>0.0</td>\n",
       "      <td>0.0</td>\n",
       "      <td>0.0</td>\n",
       "      <td>0.0</td>\n",
       "      <td>0.0</td>\n",
       "      <td>0.0</td>\n",
       "    </tr>\n",
       "    <tr>\n",
       "      <th>2</th>\n",
       "      <td>1</td>\n",
       "      <td>1</td>\n",
       "      <td>1</td>\n",
       "      <td>0</td>\n",
       "      <td>1</td>\n",
       "      <td>1</td>\n",
       "      <td>0.0</td>\n",
       "      <td>0.0</td>\n",
       "      <td>0.0</td>\n",
       "      <td>1.0</td>\n",
       "      <td>...</td>\n",
       "      <td>0.0</td>\n",
       "      <td>0.0</td>\n",
       "      <td>0.0</td>\n",
       "      <td>0.0</td>\n",
       "      <td>0.0</td>\n",
       "      <td>0.0</td>\n",
       "      <td>0.0</td>\n",
       "      <td>0.0</td>\n",
       "      <td>1.0</td>\n",
       "      <td>0.0</td>\n",
       "    </tr>\n",
       "    <tr>\n",
       "      <th>3</th>\n",
       "      <td>0</td>\n",
       "      <td>1</td>\n",
       "      <td>1</td>\n",
       "      <td>0</td>\n",
       "      <td>1</td>\n",
       "      <td>1</td>\n",
       "      <td>0.0</td>\n",
       "      <td>0.0</td>\n",
       "      <td>1.0</td>\n",
       "      <td>0.0</td>\n",
       "      <td>...</td>\n",
       "      <td>0.0</td>\n",
       "      <td>0.0</td>\n",
       "      <td>0.0</td>\n",
       "      <td>0.0</td>\n",
       "      <td>0.0</td>\n",
       "      <td>0.0</td>\n",
       "      <td>0.0</td>\n",
       "      <td>0.0</td>\n",
       "      <td>0.0</td>\n",
       "      <td>0.0</td>\n",
       "    </tr>\n",
       "    <tr>\n",
       "      <th>4</th>\n",
       "      <td>1</td>\n",
       "      <td>0</td>\n",
       "      <td>0</td>\n",
       "      <td>0</td>\n",
       "      <td>1</td>\n",
       "      <td>0</td>\n",
       "      <td>0.0</td>\n",
       "      <td>0.0</td>\n",
       "      <td>0.0</td>\n",
       "      <td>1.0</td>\n",
       "      <td>...</td>\n",
       "      <td>0.0</td>\n",
       "      <td>0.0</td>\n",
       "      <td>0.0</td>\n",
       "      <td>0.0</td>\n",
       "      <td>0.0</td>\n",
       "      <td>0.0</td>\n",
       "      <td>0.0</td>\n",
       "      <td>0.0</td>\n",
       "      <td>0.0</td>\n",
       "      <td>0.0</td>\n",
       "    </tr>\n",
       "  </tbody>\n",
       "</table>\n",
       "<p>5 rows × 64 columns</p>\n",
       "</div>"
      ],
      "text/plain": [
       "   kitten  sex  sterilized  cfa_breed  domestic_breed  has_name  \\\n",
       "0       1    0           0          0               1         0   \n",
       "1       1    1           0          0               1         1   \n",
       "2       1    1           1          0               1         1   \n",
       "3       0    1           1          0               1         1   \n",
       "4       1    0           0          0               1         0   \n",
       "\n",
       "   x0_american shorthair  x0_domestic longhair  x0_domestic mediumhair  \\\n",
       "0                    0.0                   0.0                     0.0   \n",
       "1                    0.0                   0.0                     0.0   \n",
       "2                    0.0                   0.0                     0.0   \n",
       "3                    0.0                   0.0                     1.0   \n",
       "4                    0.0                   0.0                     0.0   \n",
       "\n",
       "   x0_domestic shorthair  ...  x0_silver  x0_silver   x0_silver lynx  \\\n",
       "0                    1.0  ...        0.0         0.0             0.0   \n",
       "1                    1.0  ...        0.0         0.0             0.0   \n",
       "2                    1.0  ...        0.0         0.0             0.0   \n",
       "3                    0.0  ...        0.0         0.0             0.0   \n",
       "4                    1.0  ...        0.0         0.0             0.0   \n",
       "\n",
       "   x0_silver lynx   x0_tan  x0_torbie  x0_tortie  x0_tricolor  x0_white  \\\n",
       "0              0.0     0.0        0.0        0.0          0.0       0.0   \n",
       "1              0.0     0.0        0.0        0.0          0.0       0.0   \n",
       "2              0.0     0.0        0.0        0.0          0.0       1.0   \n",
       "3              0.0     0.0        0.0        0.0          0.0       0.0   \n",
       "4              0.0     0.0        0.0        0.0          0.0       0.0   \n",
       "\n",
       "   x0_yellow  \n",
       "0        0.0  \n",
       "1        0.0  \n",
       "2        0.0  \n",
       "3        0.0  \n",
       "4        0.0  \n",
       "\n",
       "[5 rows x 64 columns]"
      ]
     },
     "execution_count": 75,
     "metadata": {},
     "output_type": "execute_result"
    }
   ],
   "source": [
    "X.head()"
   ]
  },
  {
   "cell_type": "code",
   "execution_count": 79,
   "id": "b4c2c230",
   "metadata": {},
   "outputs": [
    {
     "data": {
      "text/plain": [
       "0        0.0\n",
       "1        1.0\n",
       "2        1.0\n",
       "3        0.0\n",
       "4        0.0\n",
       "        ... \n",
       "29406    1.0\n",
       "29407    1.0\n",
       "29408    0.0\n",
       "29409    1.0\n",
       "29410    1.0\n",
       "Name: adopted_or_not, Length: 29411, dtype: float64"
      ]
     },
     "execution_count": 79,
     "metadata": {},
     "output_type": "execute_result"
    }
   ],
   "source": [
    "y"
   ]
  },
  {
   "cell_type": "markdown",
   "id": "16b5630c",
   "metadata": {
    "heading_collapsed": true
   },
   "source": [
    "## One Hot Encoding\n",
    "\n",
    "\n",
    "* Don't OHE breed (keep top_breeds instead)\n",
    "* OHE coat_pattern\n",
    "* OHE coat\n",
    "\n",
    "The code has been transferred to package to generate X and y"
   ]
  },
  {
   "cell_type": "code",
   "execution_count": 38,
   "id": "2f052b8a",
   "metadata": {
    "hidden": true
   },
   "outputs": [],
   "source": [
    "from sklearn.preprocessing import OneHotEncoder\n",
    "enc = OneHotEncoder(sparse = False)"
   ]
  },
  {
   "cell_type": "markdown",
   "id": "4008b240",
   "metadata": {
    "hidden": true
   },
   "source": [
    "### One Hot Encode `top_breeds`\n"
   ]
  },
  {
   "cell_type": "code",
   "execution_count": 40,
   "id": "1cd90b45",
   "metadata": {
    "hidden": true
   },
   "outputs": [],
   "source": [
    "enc.fit(features_df[['top_breeds']]) # Fit encoder\n",
    "\n",
    "top_breeds_encoded = enc.transform(features_df[['top_breeds']]) # Encode alley\n",
    "\n",
    "features_df[\"american_shorthair\"],features_df[\"domestic_longhair\"],features_df['domestic_mediumhair'],features_df['domestic_shorthair'],features_df['other'],features_df['siamese']  = top_breeds_encoded.T # Transpose encoded Alley back into dataframe\n",
    "\n",
    "features_df.drop('top_breeds', axis = 1, inplace = True)"
   ]
  },
  {
   "cell_type": "markdown",
   "id": "4e384746",
   "metadata": {
    "hidden": true
   },
   "source": [
    "### Map `sex`"
   ]
  },
  {
   "cell_type": "code",
   "execution_count": 42,
   "id": "56dae20c",
   "metadata": {
    "hidden": true
   },
   "outputs": [],
   "source": [
    "def map_sex(x):\n",
    "    if x == 'Male':\n",
    "        return 0\n",
    "    return 1"
   ]
  },
  {
   "cell_type": "code",
   "execution_count": 43,
   "id": "e8cb9d9d",
   "metadata": {
    "hidden": true
   },
   "outputs": [],
   "source": [
    "features_df.sex = features_df.sex.apply(map_sex)"
   ]
  },
  {
   "cell_type": "markdown",
   "id": "05034db5",
   "metadata": {
    "hidden": true
   },
   "source": [
    "### One Hot Encode `coat_pattern`"
   ]
  },
  {
   "cell_type": "code",
   "execution_count": 45,
   "id": "71d7574d",
   "metadata": {
    "hidden": true
   },
   "outputs": [],
   "source": [
    "enc.fit(features_df[['coat_pattern']]) # Fit encoder\n",
    "\n",
    "coat_pattern_encoded = pd.DataFrame(enc.transform(features_df[['coat_pattern']]), columns=enc.get_feature_names())\n",
    "\n",
    "#features_df.drop('top_breeds', axis = 1, inplace = True)"
   ]
  },
  {
   "cell_type": "code",
   "execution_count": 46,
   "id": "9d38a072",
   "metadata": {
    "hidden": true
   },
   "outputs": [],
   "source": [
    "features_df = pd.concat([features_df, coat_pattern_encoded], axis=1)\n",
    "features_df.drop(columns='coat_pattern', inplace = True)"
   ]
  },
  {
   "cell_type": "markdown",
   "id": "e40543d5",
   "metadata": {
    "hidden": true
   },
   "source": [
    "### One Hot Encode `coat`"
   ]
  },
  {
   "cell_type": "code",
   "execution_count": 48,
   "id": "84289dab",
   "metadata": {
    "hidden": true
   },
   "outputs": [],
   "source": [
    "enc.fit(features_df[['coat']]) # Fit encoder\n",
    "\n",
    "coat_encoded = pd.DataFrame(enc.transform(features_df[['coat']]), columns=enc.get_feature_names())\n",
    "\n",
    "#features_df.drop('top_breeds', axis = 1, inplace = True)"
   ]
  },
  {
   "cell_type": "code",
   "execution_count": 49,
   "id": "74fc1398",
   "metadata": {
    "hidden": true
   },
   "outputs": [],
   "source": [
    "features_df = pd.concat([features_df, coat_encoded], axis=1)\n",
    "features_df.drop(columns='coat', inplace = True)"
   ]
  },
  {
   "cell_type": "markdown",
   "id": "f6b64e8d",
   "metadata": {},
   "source": [
    "## Baseline model"
   ]
  },
  {
   "cell_type": "code",
   "execution_count": 50,
   "id": "52b435c8",
   "metadata": {},
   "outputs": [
    {
     "data": {
      "text/plain": [
       "0.0    16682\n",
       "1.0    12729\n",
       "Name: adopted_or_not, dtype: int64"
      ]
     },
     "execution_count": 50,
     "metadata": {},
     "output_type": "execute_result"
    }
   ],
   "source": [
    "target.value_counts()"
   ]
  },
  {
   "cell_type": "code",
   "execution_count": 51,
   "id": "16274deb",
   "metadata": {},
   "outputs": [
    {
     "name": "stdout",
     "output_type": "stream",
     "text": [
      "The dataset is fairly balanced, with 43.28% of adoptions.\n"
     ]
    }
   ],
   "source": [
    "print(f'The dataset is fairly balanced, with {round(target.value_counts()[1]/target.value_counts().sum()*100, 2)}% of adoptions.')"
   ]
  },
  {
   "cell_type": "markdown",
   "id": "8cd5487c",
   "metadata": {},
   "source": [
    "A baseline model is expected to have a 43% precision."
   ]
  },
  {
   "cell_type": "markdown",
   "id": "21cf93f9",
   "metadata": {},
   "source": [
    "## Cross validation"
   ]
  },
  {
   "cell_type": "markdown",
   "id": "097f4618",
   "metadata": {},
   "source": [
    "### Logistic Regression"
   ]
  },
  {
   "cell_type": "code",
   "execution_count": 52,
   "id": "f2fe9982",
   "metadata": {},
   "outputs": [
    {
     "data": {
      "text/html": [
       "<div>\n",
       "<style scoped>\n",
       "    .dataframe tbody tr th:only-of-type {\n",
       "        vertical-align: middle;\n",
       "    }\n",
       "\n",
       "    .dataframe tbody tr th {\n",
       "        vertical-align: top;\n",
       "    }\n",
       "\n",
       "    .dataframe thead th {\n",
       "        text-align: right;\n",
       "    }\n",
       "</style>\n",
       "<table border=\"1\" class=\"dataframe\">\n",
       "  <thead>\n",
       "    <tr style=\"text-align: right;\">\n",
       "      <th></th>\n",
       "      <th>sex</th>\n",
       "      <th>sterilized</th>\n",
       "      <th>cfa_breed</th>\n",
       "      <th>domestic_breed</th>\n",
       "      <th>has_name</th>\n",
       "      <th>american_shorthair</th>\n",
       "      <th>domestic_longhair</th>\n",
       "      <th>domestic_mediumhair</th>\n",
       "      <th>domestic_shorthair</th>\n",
       "      <th>other</th>\n",
       "      <th>...</th>\n",
       "      <th>x0_silver</th>\n",
       "      <th>x0_silver</th>\n",
       "      <th>x0_silver lynx</th>\n",
       "      <th>x0_silver lynx</th>\n",
       "      <th>x0_tan</th>\n",
       "      <th>x0_torbie</th>\n",
       "      <th>x0_tortie</th>\n",
       "      <th>x0_tricolor</th>\n",
       "      <th>x0_white</th>\n",
       "      <th>x0_yellow</th>\n",
       "    </tr>\n",
       "  </thead>\n",
       "  <tbody>\n",
       "    <tr>\n",
       "      <th>0</th>\n",
       "      <td>0</td>\n",
       "      <td>0</td>\n",
       "      <td>0</td>\n",
       "      <td>1</td>\n",
       "      <td>0</td>\n",
       "      <td>0.0</td>\n",
       "      <td>0.0</td>\n",
       "      <td>0.0</td>\n",
       "      <td>1.0</td>\n",
       "      <td>0.0</td>\n",
       "      <td>...</td>\n",
       "      <td>0.0</td>\n",
       "      <td>0.0</td>\n",
       "      <td>0.0</td>\n",
       "      <td>0.0</td>\n",
       "      <td>0.0</td>\n",
       "      <td>0.0</td>\n",
       "      <td>0.0</td>\n",
       "      <td>0.0</td>\n",
       "      <td>0.0</td>\n",
       "      <td>0.0</td>\n",
       "    </tr>\n",
       "    <tr>\n",
       "      <th>1</th>\n",
       "      <td>1</td>\n",
       "      <td>0</td>\n",
       "      <td>0</td>\n",
       "      <td>1</td>\n",
       "      <td>1</td>\n",
       "      <td>0.0</td>\n",
       "      <td>0.0</td>\n",
       "      <td>0.0</td>\n",
       "      <td>1.0</td>\n",
       "      <td>0.0</td>\n",
       "      <td>...</td>\n",
       "      <td>0.0</td>\n",
       "      <td>0.0</td>\n",
       "      <td>0.0</td>\n",
       "      <td>0.0</td>\n",
       "      <td>0.0</td>\n",
       "      <td>0.0</td>\n",
       "      <td>0.0</td>\n",
       "      <td>0.0</td>\n",
       "      <td>0.0</td>\n",
       "      <td>0.0</td>\n",
       "    </tr>\n",
       "    <tr>\n",
       "      <th>2</th>\n",
       "      <td>1</td>\n",
       "      <td>1</td>\n",
       "      <td>0</td>\n",
       "      <td>1</td>\n",
       "      <td>1</td>\n",
       "      <td>0.0</td>\n",
       "      <td>0.0</td>\n",
       "      <td>0.0</td>\n",
       "      <td>1.0</td>\n",
       "      <td>0.0</td>\n",
       "      <td>...</td>\n",
       "      <td>0.0</td>\n",
       "      <td>0.0</td>\n",
       "      <td>0.0</td>\n",
       "      <td>0.0</td>\n",
       "      <td>0.0</td>\n",
       "      <td>0.0</td>\n",
       "      <td>0.0</td>\n",
       "      <td>0.0</td>\n",
       "      <td>1.0</td>\n",
       "      <td>0.0</td>\n",
       "    </tr>\n",
       "    <tr>\n",
       "      <th>3</th>\n",
       "      <td>1</td>\n",
       "      <td>1</td>\n",
       "      <td>0</td>\n",
       "      <td>1</td>\n",
       "      <td>1</td>\n",
       "      <td>0.0</td>\n",
       "      <td>0.0</td>\n",
       "      <td>1.0</td>\n",
       "      <td>0.0</td>\n",
       "      <td>0.0</td>\n",
       "      <td>...</td>\n",
       "      <td>0.0</td>\n",
       "      <td>0.0</td>\n",
       "      <td>0.0</td>\n",
       "      <td>0.0</td>\n",
       "      <td>0.0</td>\n",
       "      <td>0.0</td>\n",
       "      <td>0.0</td>\n",
       "      <td>0.0</td>\n",
       "      <td>0.0</td>\n",
       "      <td>0.0</td>\n",
       "    </tr>\n",
       "    <tr>\n",
       "      <th>4</th>\n",
       "      <td>0</td>\n",
       "      <td>0</td>\n",
       "      <td>0</td>\n",
       "      <td>1</td>\n",
       "      <td>0</td>\n",
       "      <td>0.0</td>\n",
       "      <td>0.0</td>\n",
       "      <td>0.0</td>\n",
       "      <td>1.0</td>\n",
       "      <td>0.0</td>\n",
       "      <td>...</td>\n",
       "      <td>0.0</td>\n",
       "      <td>0.0</td>\n",
       "      <td>0.0</td>\n",
       "      <td>0.0</td>\n",
       "      <td>0.0</td>\n",
       "      <td>0.0</td>\n",
       "      <td>0.0</td>\n",
       "      <td>0.0</td>\n",
       "      <td>0.0</td>\n",
       "      <td>0.0</td>\n",
       "    </tr>\n",
       "    <tr>\n",
       "      <th>...</th>\n",
       "      <td>...</td>\n",
       "      <td>...</td>\n",
       "      <td>...</td>\n",
       "      <td>...</td>\n",
       "      <td>...</td>\n",
       "      <td>...</td>\n",
       "      <td>...</td>\n",
       "      <td>...</td>\n",
       "      <td>...</td>\n",
       "      <td>...</td>\n",
       "      <td>...</td>\n",
       "      <td>...</td>\n",
       "      <td>...</td>\n",
       "      <td>...</td>\n",
       "      <td>...</td>\n",
       "      <td>...</td>\n",
       "      <td>...</td>\n",
       "      <td>...</td>\n",
       "      <td>...</td>\n",
       "      <td>...</td>\n",
       "      <td>...</td>\n",
       "    </tr>\n",
       "    <tr>\n",
       "      <th>29406</th>\n",
       "      <td>1</td>\n",
       "      <td>0</td>\n",
       "      <td>1</td>\n",
       "      <td>0</td>\n",
       "      <td>1</td>\n",
       "      <td>1.0</td>\n",
       "      <td>0.0</td>\n",
       "      <td>0.0</td>\n",
       "      <td>0.0</td>\n",
       "      <td>0.0</td>\n",
       "      <td>...</td>\n",
       "      <td>0.0</td>\n",
       "      <td>0.0</td>\n",
       "      <td>0.0</td>\n",
       "      <td>0.0</td>\n",
       "      <td>0.0</td>\n",
       "      <td>0.0</td>\n",
       "      <td>0.0</td>\n",
       "      <td>0.0</td>\n",
       "      <td>0.0</td>\n",
       "      <td>0.0</td>\n",
       "    </tr>\n",
       "    <tr>\n",
       "      <th>29407</th>\n",
       "      <td>0</td>\n",
       "      <td>0</td>\n",
       "      <td>0</td>\n",
       "      <td>1</td>\n",
       "      <td>1</td>\n",
       "      <td>0.0</td>\n",
       "      <td>0.0</td>\n",
       "      <td>0.0</td>\n",
       "      <td>1.0</td>\n",
       "      <td>0.0</td>\n",
       "      <td>...</td>\n",
       "      <td>0.0</td>\n",
       "      <td>0.0</td>\n",
       "      <td>0.0</td>\n",
       "      <td>0.0</td>\n",
       "      <td>0.0</td>\n",
       "      <td>0.0</td>\n",
       "      <td>0.0</td>\n",
       "      <td>0.0</td>\n",
       "      <td>0.0</td>\n",
       "      <td>0.0</td>\n",
       "    </tr>\n",
       "    <tr>\n",
       "      <th>29408</th>\n",
       "      <td>0</td>\n",
       "      <td>1</td>\n",
       "      <td>0</td>\n",
       "      <td>1</td>\n",
       "      <td>0</td>\n",
       "      <td>0.0</td>\n",
       "      <td>0.0</td>\n",
       "      <td>0.0</td>\n",
       "      <td>1.0</td>\n",
       "      <td>0.0</td>\n",
       "      <td>...</td>\n",
       "      <td>0.0</td>\n",
       "      <td>0.0</td>\n",
       "      <td>0.0</td>\n",
       "      <td>0.0</td>\n",
       "      <td>0.0</td>\n",
       "      <td>0.0</td>\n",
       "      <td>0.0</td>\n",
       "      <td>0.0</td>\n",
       "      <td>0.0</td>\n",
       "      <td>0.0</td>\n",
       "    </tr>\n",
       "    <tr>\n",
       "      <th>29409</th>\n",
       "      <td>1</td>\n",
       "      <td>1</td>\n",
       "      <td>0</td>\n",
       "      <td>1</td>\n",
       "      <td>1</td>\n",
       "      <td>0.0</td>\n",
       "      <td>0.0</td>\n",
       "      <td>0.0</td>\n",
       "      <td>1.0</td>\n",
       "      <td>0.0</td>\n",
       "      <td>...</td>\n",
       "      <td>0.0</td>\n",
       "      <td>0.0</td>\n",
       "      <td>0.0</td>\n",
       "      <td>0.0</td>\n",
       "      <td>0.0</td>\n",
       "      <td>0.0</td>\n",
       "      <td>1.0</td>\n",
       "      <td>0.0</td>\n",
       "      <td>0.0</td>\n",
       "      <td>0.0</td>\n",
       "    </tr>\n",
       "    <tr>\n",
       "      <th>29410</th>\n",
       "      <td>0</td>\n",
       "      <td>1</td>\n",
       "      <td>0</td>\n",
       "      <td>1</td>\n",
       "      <td>1</td>\n",
       "      <td>0.0</td>\n",
       "      <td>0.0</td>\n",
       "      <td>1.0</td>\n",
       "      <td>0.0</td>\n",
       "      <td>0.0</td>\n",
       "      <td>...</td>\n",
       "      <td>0.0</td>\n",
       "      <td>0.0</td>\n",
       "      <td>0.0</td>\n",
       "      <td>0.0</td>\n",
       "      <td>0.0</td>\n",
       "      <td>0.0</td>\n",
       "      <td>0.0</td>\n",
       "      <td>0.0</td>\n",
       "      <td>0.0</td>\n",
       "      <td>0.0</td>\n",
       "    </tr>\n",
       "  </tbody>\n",
       "</table>\n",
       "<p>29411 rows × 63 columns</p>\n",
       "</div>"
      ],
      "text/plain": [
       "       sex  sterilized  cfa_breed  domestic_breed  has_name  \\\n",
       "0        0           0          0               1         0   \n",
       "1        1           0          0               1         1   \n",
       "2        1           1          0               1         1   \n",
       "3        1           1          0               1         1   \n",
       "4        0           0          0               1         0   \n",
       "...    ...         ...        ...             ...       ...   \n",
       "29406    1           0          1               0         1   \n",
       "29407    0           0          0               1         1   \n",
       "29408    0           1          0               1         0   \n",
       "29409    1           1          0               1         1   \n",
       "29410    0           1          0               1         1   \n",
       "\n",
       "       american_shorthair  domestic_longhair  domestic_mediumhair  \\\n",
       "0                     0.0                0.0                  0.0   \n",
       "1                     0.0                0.0                  0.0   \n",
       "2                     0.0                0.0                  0.0   \n",
       "3                     0.0                0.0                  1.0   \n",
       "4                     0.0                0.0                  0.0   \n",
       "...                   ...                ...                  ...   \n",
       "29406                 1.0                0.0                  0.0   \n",
       "29407                 0.0                0.0                  0.0   \n",
       "29408                 0.0                0.0                  0.0   \n",
       "29409                 0.0                0.0                  0.0   \n",
       "29410                 0.0                0.0                  1.0   \n",
       "\n",
       "       domestic_shorthair  other  ...  x0_silver  x0_silver   x0_silver lynx  \\\n",
       "0                     1.0    0.0  ...        0.0         0.0             0.0   \n",
       "1                     1.0    0.0  ...        0.0         0.0             0.0   \n",
       "2                     1.0    0.0  ...        0.0         0.0             0.0   \n",
       "3                     0.0    0.0  ...        0.0         0.0             0.0   \n",
       "4                     1.0    0.0  ...        0.0         0.0             0.0   \n",
       "...                   ...    ...  ...        ...         ...             ...   \n",
       "29406                 0.0    0.0  ...        0.0         0.0             0.0   \n",
       "29407                 1.0    0.0  ...        0.0         0.0             0.0   \n",
       "29408                 1.0    0.0  ...        0.0         0.0             0.0   \n",
       "29409                 1.0    0.0  ...        0.0         0.0             0.0   \n",
       "29410                 0.0    0.0  ...        0.0         0.0             0.0   \n",
       "\n",
       "       x0_silver lynx   x0_tan  x0_torbie  x0_tortie  x0_tricolor  x0_white  \\\n",
       "0                  0.0     0.0        0.0        0.0          0.0       0.0   \n",
       "1                  0.0     0.0        0.0        0.0          0.0       0.0   \n",
       "2                  0.0     0.0        0.0        0.0          0.0       1.0   \n",
       "3                  0.0     0.0        0.0        0.0          0.0       0.0   \n",
       "4                  0.0     0.0        0.0        0.0          0.0       0.0   \n",
       "...                ...     ...        ...        ...          ...       ...   \n",
       "29406              0.0     0.0        0.0        0.0          0.0       0.0   \n",
       "29407              0.0     0.0        0.0        0.0          0.0       0.0   \n",
       "29408              0.0     0.0        0.0        0.0          0.0       0.0   \n",
       "29409              0.0     0.0        0.0        1.0          0.0       0.0   \n",
       "29410              0.0     0.0        0.0        0.0          0.0       0.0   \n",
       "\n",
       "       x0_yellow  \n",
       "0            0.0  \n",
       "1            0.0  \n",
       "2            0.0  \n",
       "3            0.0  \n",
       "4            0.0  \n",
       "...          ...  \n",
       "29406        0.0  \n",
       "29407        0.0  \n",
       "29408        0.0  \n",
       "29409        0.0  \n",
       "29410        0.0  \n",
       "\n",
       "[29411 rows x 63 columns]"
      ]
     },
     "execution_count": 52,
     "metadata": {},
     "output_type": "execute_result"
    }
   ],
   "source": [
    "features_df.drop(columns='date_of_birth', inplace=True)"
   ]
  },
  {
   "cell_type": "code",
   "execution_count": 53,
   "id": "269fb9e3",
   "metadata": {},
   "outputs": [
    {
     "data": {
      "text/plain": [
       "sex                 int64\n",
       "sterilized          int64\n",
       "cfa_breed           int64\n",
       "domestic_breed      int64\n",
       "has_name            int64\n",
       "                   ...   \n",
       "x0_torbie         float64\n",
       "x0_tortie         float64\n",
       "x0_tricolor       float64\n",
       "x0_white          float64\n",
       "x0_yellow         float64\n",
       "Length: 63, dtype: object"
      ]
     },
     "execution_count": 53,
     "metadata": {},
     "output_type": "execute_result"
    }
   ],
   "source": [
    "features_df.dtypes"
   ]
  },
  {
   "cell_type": "code",
   "execution_count": 54,
   "id": "4f0c0fb2",
   "metadata": {},
   "outputs": [
    {
     "name": "stdout",
     "output_type": "stream",
     "text": [
      "[0.76797552 0.76657599 0.7584155  0.76436586 0.77575655]\n"
     ]
    }
   ],
   "source": [
    "from sklearn.linear_model import LogisticRegression\n",
    "from sklearn.model_selection import cross_val_score\n",
    "\n",
    "log_reg = LogisticRegression(solver='liblinear')\n",
    "print(cross_val_score(log_reg, features_df, target, cv=5))"
   ]
  },
  {
   "cell_type": "markdown",
   "id": "b219eba6",
   "metadata": {},
   "source": [
    "### SVC"
   ]
  },
  {
   "cell_type": "code",
   "execution_count": 55,
   "id": "855bab0c",
   "metadata": {},
   "outputs": [],
   "source": [
    "from sklearn.svm import SVC\n",
    "svc = SVC(kernel='linear', C=10)"
   ]
  },
  {
   "cell_type": "code",
   "execution_count": 56,
   "id": "e83e9146",
   "metadata": {},
   "outputs": [
    {
     "name": "stdout",
     "output_type": "stream",
     "text": [
      "[0.76746558 0.76725604 0.75807548 0.76351581 0.77541652]\n"
     ]
    }
   ],
   "source": [
    "print(cross_val_score(svc, features_df, target, cv=5))"
   ]
  },
  {
   "cell_type": "markdown",
   "id": "6a6dd235",
   "metadata": {},
   "source": [
    "### KNN"
   ]
  },
  {
   "cell_type": "code",
   "execution_count": 58,
   "id": "ccb4ed05",
   "metadata": {},
   "outputs": [],
   "source": [
    "from sklearn.neighbors import KNeighborsClassifier\n",
    "knn = KNeighborsClassifier(n_neighbors=3)"
   ]
  },
  {
   "cell_type": "code",
   "execution_count": 59,
   "id": "fc521ecb",
   "metadata": {},
   "outputs": [
    {
     "name": "stdout",
     "output_type": "stream",
     "text": [
      "[0.70899201 0.74039442 0.6984019  0.65317919 0.68225094]\n"
     ]
    }
   ],
   "source": [
    "print(cross_val_score(knn, features_df, target, cv=5))"
   ]
  },
  {
   "cell_type": "markdown",
   "id": "489ceb4d",
   "metadata": {},
   "source": [
    "### Random Forest"
   ]
  },
  {
   "cell_type": "code",
   "execution_count": 60,
   "id": "7f195af6",
   "metadata": {},
   "outputs": [],
   "source": [
    "from sklearn.ensemble import RandomForestClassifier\n",
    "rforest = RandomForestClassifier(max_depth=3, random_state=0)"
   ]
  },
  {
   "cell_type": "code",
   "execution_count": 61,
   "id": "b10ade65",
   "metadata": {},
   "outputs": [
    {
     "name": "stdout",
     "output_type": "stream",
     "text": [
      "[0.76780554 0.76640598 0.75807548 0.76368582 0.77439646]\n"
     ]
    }
   ],
   "source": [
    "print(cross_val_score(rforest, features_df, target, cv=5))"
   ]
  },
  {
   "cell_type": "markdown",
   "id": "658a92e6",
   "metadata": {},
   "source": [
    "### XGBoost"
   ]
  },
  {
   "cell_type": "code",
   "execution_count": 63,
   "id": "3d248517",
   "metadata": {},
   "outputs": [],
   "source": [
    "from sklearn.ensemble import GradientBoostingClassifier\n",
    "boost = GradientBoostingClassifier(n_estimators=100, learning_rate=0.1,\n",
    "                                 max_depth=2, random_state=0)"
   ]
  },
  {
   "cell_type": "code",
   "execution_count": 64,
   "id": "aa24f2e2",
   "metadata": {},
   "outputs": [
    {
     "name": "stdout",
     "output_type": "stream",
     "text": [
      "[0.76899541 0.76742605 0.7599456  0.76402584 0.77643659]\n"
     ]
    }
   ],
   "source": [
    "print(cross_val_score(boost, features_df, target, cv=5))"
   ]
  }
 ],
 "metadata": {
  "kernelspec": {
   "display_name": "Python 3 (ipykernel)",
   "language": "python",
   "name": "python3"
  },
  "language_info": {
   "codemirror_mode": {
    "name": "ipython",
    "version": 3
   },
   "file_extension": ".py",
   "mimetype": "text/x-python",
   "name": "python",
   "nbconvert_exporter": "python",
   "pygments_lexer": "ipython3",
   "version": "3.8.12"
  },
  "toc": {
   "base_numbering": 1,
   "nav_menu": {},
   "number_sections": true,
   "sideBar": true,
   "skip_h1_title": false,
   "title_cell": "Table of Contents",
   "title_sidebar": "Contents",
   "toc_cell": false,
   "toc_position": {},
   "toc_section_display": true,
   "toc_window_display": false
  }
 },
 "nbformat": 4,
 "nbformat_minor": 5
}
