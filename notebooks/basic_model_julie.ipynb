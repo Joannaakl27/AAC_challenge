{
 "cells": [
  {
   "cell_type": "markdown",
   "id": "9cffc686",
   "metadata": {},
   "source": [
    "# Basic classification model of outcome"
   ]
  },
  {
   "cell_type": "markdown",
   "id": "bbf0fc8b",
   "metadata": {},
   "source": [
    "This notebook performs a simple binary classification on the outcomes of cats using a `logistic regression`."
   ]
  },
  {
   "cell_type": "markdown",
   "id": "d3107d96",
   "metadata": {},
   "source": [
    "## Imports"
   ]
  },
  {
   "cell_type": "code",
   "execution_count": 56,
   "id": "330ff4f9",
   "metadata": {},
   "outputs": [
    {
     "name": "stdout",
     "output_type": "stream",
     "text": [
      "The autoreload extension is already loaded. To reload it, use:\n",
      "  %reload_ext autoreload\n"
     ]
    }
   ],
   "source": [
    "import datetime\n",
    "import pandas as pd\n",
    "import numpy as np\n",
    "from AAC_challenge import data\n",
    "\n",
    "from sklearn.impute import SimpleImputer\n",
    "\n",
    "%load_ext autoreload\n",
    "%autoreload 2"
   ]
  },
  {
   "cell_type": "markdown",
   "id": "097ebfcb",
   "metadata": {},
   "source": [
    "## Data loading and cleaning"
   ]
  },
  {
   "cell_type": "code",
   "execution_count": 64,
   "id": "7754373a",
   "metadata": {},
   "outputs": [
    {
     "data": {
      "text/html": [
       "<div>\n",
       "<style scoped>\n",
       "    .dataframe tbody tr th:only-of-type {\n",
       "        vertical-align: middle;\n",
       "    }\n",
       "\n",
       "    .dataframe tbody tr th {\n",
       "        vertical-align: top;\n",
       "    }\n",
       "\n",
       "    .dataframe thead th {\n",
       "        text-align: right;\n",
       "    }\n",
       "</style>\n",
       "<table border=\"1\" class=\"dataframe\">\n",
       "  <thead>\n",
       "    <tr style=\"text-align: right;\">\n",
       "      <th></th>\n",
       "      <th>breed</th>\n",
       "      <th>color</th>\n",
       "      <th>date_of_birth</th>\n",
       "      <th>outcome_datetime</th>\n",
       "      <th>outcome_type</th>\n",
       "      <th>sex</th>\n",
       "      <th>sterilized</th>\n",
       "      <th>periods</th>\n",
       "      <th>period_range</th>\n",
       "      <th>outcome_age_(days)</th>\n",
       "      <th>...</th>\n",
       "      <th>outcome_year</th>\n",
       "      <th>outcome_weekday</th>\n",
       "      <th>cfa_breed</th>\n",
       "      <th>domestic_breed</th>\n",
       "      <th>coat_pattern</th>\n",
       "      <th>main_color</th>\n",
       "      <th>coat</th>\n",
       "      <th>has_name</th>\n",
       "      <th>adopted_or_not</th>\n",
       "      <th>outcome_year_month</th>\n",
       "    </tr>\n",
       "  </thead>\n",
       "  <tbody>\n",
       "    <tr>\n",
       "      <th>0</th>\n",
       "      <td>domestic shorthair</td>\n",
       "      <td>orange</td>\n",
       "      <td>2014-07-07</td>\n",
       "      <td>2014-07-22</td>\n",
       "      <td>Transfer</td>\n",
       "      <td>Male</td>\n",
       "      <td>0</td>\n",
       "      <td>2</td>\n",
       "      <td>7</td>\n",
       "      <td>14</td>\n",
       "      <td>...</td>\n",
       "      <td>2014</td>\n",
       "      <td>Tuesday</td>\n",
       "      <td>0</td>\n",
       "      <td>1</td>\n",
       "      <td>tabby</td>\n",
       "      <td>orange</td>\n",
       "      <td>orange</td>\n",
       "      <td>0</td>\n",
       "      <td>0</td>\n",
       "      <td>2014-07-01</td>\n",
       "    </tr>\n",
       "    <tr>\n",
       "      <th>1</th>\n",
       "      <td>domestic shorthair</td>\n",
       "      <td>blue /white</td>\n",
       "      <td>2014-06-16</td>\n",
       "      <td>2014-08-14</td>\n",
       "      <td>Adoption</td>\n",
       "      <td>Female</td>\n",
       "      <td>0</td>\n",
       "      <td>1</td>\n",
       "      <td>30</td>\n",
       "      <td>30</td>\n",
       "      <td>...</td>\n",
       "      <td>2014</td>\n",
       "      <td>Thursday</td>\n",
       "      <td>0</td>\n",
       "      <td>1</td>\n",
       "      <td>tabby</td>\n",
       "      <td>blue</td>\n",
       "      <td>blue</td>\n",
       "      <td>1</td>\n",
       "      <td>1</td>\n",
       "      <td>2014-08-01</td>\n",
       "    </tr>\n",
       "    <tr>\n",
       "      <th>2</th>\n",
       "      <td>domestic shorthair</td>\n",
       "      <td>white/black</td>\n",
       "      <td>2014-03-26</td>\n",
       "      <td>2014-06-29</td>\n",
       "      <td>Adoption</td>\n",
       "      <td>Female</td>\n",
       "      <td>1</td>\n",
       "      <td>3</td>\n",
       "      <td>30</td>\n",
       "      <td>90</td>\n",
       "      <td>...</td>\n",
       "      <td>2014</td>\n",
       "      <td>Sunday</td>\n",
       "      <td>0</td>\n",
       "      <td>1</td>\n",
       "      <td>tabby</td>\n",
       "      <td>white</td>\n",
       "      <td>white</td>\n",
       "      <td>1</td>\n",
       "      <td>1</td>\n",
       "      <td>2014-06-01</td>\n",
       "    </tr>\n",
       "    <tr>\n",
       "      <th>3</th>\n",
       "      <td>domestic mediumhair</td>\n",
       "      <td>black/white</td>\n",
       "      <td>2013-03-27</td>\n",
       "      <td>2014-03-28</td>\n",
       "      <td>Return to Owner</td>\n",
       "      <td>Female</td>\n",
       "      <td>1</td>\n",
       "      <td>1</td>\n",
       "      <td>365</td>\n",
       "      <td>365</td>\n",
       "      <td>...</td>\n",
       "      <td>2014</td>\n",
       "      <td>Friday</td>\n",
       "      <td>0</td>\n",
       "      <td>1</td>\n",
       "      <td>tabby</td>\n",
       "      <td>black</td>\n",
       "      <td>black</td>\n",
       "      <td>1</td>\n",
       "      <td>0</td>\n",
       "      <td>2014-03-01</td>\n",
       "    </tr>\n",
       "    <tr>\n",
       "      <th>4</th>\n",
       "      <td>domestic shorthair</td>\n",
       "      <td>black/white</td>\n",
       "      <td>2013-12-16</td>\n",
       "      <td>2014-01-09</td>\n",
       "      <td>Transfer</td>\n",
       "      <td>Male</td>\n",
       "      <td>0</td>\n",
       "      <td>3</td>\n",
       "      <td>7</td>\n",
       "      <td>21</td>\n",
       "      <td>...</td>\n",
       "      <td>2014</td>\n",
       "      <td>Thursday</td>\n",
       "      <td>0</td>\n",
       "      <td>1</td>\n",
       "      <td>tabby</td>\n",
       "      <td>black</td>\n",
       "      <td>black</td>\n",
       "      <td>0</td>\n",
       "      <td>0</td>\n",
       "      <td>2014-01-01</td>\n",
       "    </tr>\n",
       "  </tbody>\n",
       "</table>\n",
       "<p>5 rows × 22 columns</p>\n",
       "</div>"
      ],
      "text/plain": [
       "                 breed        color date_of_birth outcome_datetime  \\\n",
       "0   domestic shorthair       orange    2014-07-07       2014-07-22   \n",
       "1   domestic shorthair  blue /white    2014-06-16       2014-08-14   \n",
       "2   domestic shorthair  white/black    2014-03-26       2014-06-29   \n",
       "3  domestic mediumhair  black/white    2013-03-27       2014-03-28   \n",
       "4   domestic shorthair  black/white    2013-12-16       2014-01-09   \n",
       "\n",
       "      outcome_type     sex sterilized periods period_range outcome_age_(days)  \\\n",
       "0         Transfer    Male          0       2            7                 14   \n",
       "1         Adoption  Female          0       1           30                 30   \n",
       "2         Adoption  Female          1       3           30                 90   \n",
       "3  Return to Owner  Female          1       1          365                365   \n",
       "4         Transfer    Male          0       3            7                 21   \n",
       "\n",
       "   ... outcome_year outcome_weekday cfa_breed domestic_breed coat_pattern  \\\n",
       "0  ...         2014         Tuesday         0              1        tabby   \n",
       "1  ...         2014        Thursday         0              1        tabby   \n",
       "2  ...         2014          Sunday         0              1        tabby   \n",
       "3  ...         2014          Friday         0              1        tabby   \n",
       "4  ...         2014        Thursday         0              1        tabby   \n",
       "\n",
       "  main_color    coat has_name adopted_or_not outcome_year_month  \n",
       "0     orange  orange        0              0         2014-07-01  \n",
       "1      blue    blue         1              1         2014-08-01  \n",
       "2      white   white        1              1         2014-06-01  \n",
       "3      black   black        1              0         2014-03-01  \n",
       "4      black   black        0              0         2014-01-01  \n",
       "\n",
       "[5 rows x 22 columns]"
      ]
     },
     "execution_count": 64,
     "metadata": {},
     "output_type": "execute_result"
    }
   ],
   "source": [
    "cat_df = data.get_clean_cat_dataset('cats')\n",
    "cat_df.head()"
   ]
  },
  {
   "cell_type": "code",
   "execution_count": 99,
   "id": "9e537d6b",
   "metadata": {},
   "outputs": [
    {
     "data": {
      "text/plain": [
       "breed                          object\n",
       "color                          object\n",
       "date_of_birth          datetime64[ns]\n",
       "outcome_datetime               object\n",
       "outcome_type                   object\n",
       "sex                            object\n",
       "sterilized                     object\n",
       "periods                        object\n",
       "period_range                   object\n",
       "outcome_age_(days)             object\n",
       "outcome_age_(years)            object\n",
       "outcome_month                  object\n",
       "outcome_year                   object\n",
       "outcome_weekday                object\n",
       "cfa_breed                      object\n",
       "domestic_breed                 object\n",
       "coat_pattern                   object\n",
       "main_color                     object\n",
       "coat                           object\n",
       "has_name                       object\n",
       "adopted_or_not                 object\n",
       "outcome_year_month     datetime64[ns]\n",
       "dtype: object"
      ]
     },
     "execution_count": 99,
     "metadata": {},
     "output_type": "execute_result"
    }
   ],
   "source": [
    "cat_df.dtypes"
   ]
  },
  {
   "cell_type": "code",
   "execution_count": null,
   "id": "30fdbf5b",
   "metadata": {},
   "outputs": [],
   "source": []
  },
  {
   "cell_type": "code",
   "execution_count": null,
   "id": "eb6dcf93",
   "metadata": {},
   "outputs": [],
   "source": [
    "cat_df.sex = cat_df"
   ]
  },
  {
   "cell_type": "code",
   "execution_count": 67,
   "id": "ce2c6af2",
   "metadata": {},
   "outputs": [
    {
     "data": {
      "text/plain": [
       "Index(['breed', 'color', 'date_of_birth', 'outcome_datetime', 'outcome_type',\n",
       "       'sex', 'sterilized', 'periods', 'period_range', 'outcome_age_(days)',\n",
       "       'outcome_age_(years)', 'outcome_month', 'outcome_year',\n",
       "       'outcome_weekday', 'cfa_breed', 'domestic_breed', 'coat_pattern',\n",
       "       'main_color', 'coat', 'has_name', 'adopted_or_not',\n",
       "       'outcome_year_month'],\n",
       "      dtype='object')"
      ]
     },
     "execution_count": 67,
     "metadata": {},
     "output_type": "execute_result"
    }
   ],
   "source": [
    "cat_df.columns"
   ]
  },
  {
   "cell_type": "code",
   "execution_count": 105,
   "id": "62bc37d2",
   "metadata": {},
   "outputs": [],
   "source": [
    "features_df = cat_df[['breed', 'color', 'date_of_birth', 'sex', 'sterilized',\n",
    "                      'cfa_breed', 'domestic_breed', 'coat_pattern', 'main_color',\n",
    "                     'coat', 'has_name']]\n",
    "\n",
    "target = cat_df['adopted_or_not'].astype(float)"
   ]
  },
  {
   "cell_type": "markdown",
   "id": "16b5630c",
   "metadata": {},
   "source": [
    "**One Hot Encoding:**\n",
    "\n",
    "\n",
    "* Don't OHE breed (keep top_breeds instead)\n",
    "* Don't OHE color (keep main_color instead)\n",
    "* OHE sex\n",
    "* OHE coat_pattern\n",
    "* OHE coat"
   ]
  },
  {
   "cell_type": "code",
   "execution_count": 106,
   "id": "2f052b8a",
   "metadata": {},
   "outputs": [],
   "source": [
    "from sklearn.preprocessing import OneHotEncoder\n",
    "enc = OneHotEncoder(handle_unknown='ignore', sparse=False)"
   ]
  },
  {
   "cell_type": "code",
   "execution_count": 107,
   "id": "ff16568b",
   "metadata": {},
   "outputs": [],
   "source": [
    "X_ohe = pd.DataFrame(enc.fit_transform(features_df))"
   ]
  },
  {
   "cell_type": "code",
   "execution_count": 108,
   "id": "c2f8320f",
   "metadata": {},
   "outputs": [],
   "source": [
    "from sklearn.model_selection import train_test_split\n",
    "\n",
    "X_train, X_test, y_train, y_test = train_test_split(X_ohe, target, test_size=0.3, random_state=0)"
   ]
  },
  {
   "cell_type": "code",
   "execution_count": 109,
   "id": "75246197",
   "metadata": {},
   "outputs": [
    {
     "name": "stderr",
     "output_type": "stream",
     "text": [
      "/Users/commander/.pyenv/versions/3.8.12/envs/lewagon_current/lib/python3.8/site-packages/sklearn/model_selection/_validation.py:532: FitFailedWarning: Estimator fit failed. The score on this train-test partition for these parameters will be set to nan. Details: \n",
      "AttributeError: 'str' object has no attribute 'decode'\n",
      "\n",
      "  warnings.warn(\"Estimator fit failed. The score on this train-test\"\n",
      "/Users/commander/.pyenv/versions/3.8.12/envs/lewagon_current/lib/python3.8/site-packages/sklearn/model_selection/_validation.py:532: FitFailedWarning: Estimator fit failed. The score on this train-test partition for these parameters will be set to nan. Details: \n",
      "AttributeError: 'str' object has no attribute 'decode'\n",
      "\n",
      "  warnings.warn(\"Estimator fit failed. The score on this train-test\"\n"
     ]
    },
    {
     "name": "stdout",
     "output_type": "stream",
     "text": [
      "[nan nan nan]\n"
     ]
    },
    {
     "name": "stderr",
     "output_type": "stream",
     "text": [
      "/Users/commander/.pyenv/versions/3.8.12/envs/lewagon_current/lib/python3.8/site-packages/sklearn/model_selection/_validation.py:532: FitFailedWarning: Estimator fit failed. The score on this train-test partition for these parameters will be set to nan. Details: \n",
      "AttributeError: 'str' object has no attribute 'decode'\n",
      "\n",
      "  warnings.warn(\"Estimator fit failed. The score on this train-test\"\n"
     ]
    }
   ],
   "source": [
    "from sklearn.linear_model import LogisticRegression\n",
    "from sklearn.model_selection import cross_val_score\n",
    "\n",
    "log_reg = LogisticRegression()\n",
    "print(cross_val_score(log_reg, X_ohe, target, cv=3))"
   ]
  },
  {
   "cell_type": "code",
   "execution_count": null,
   "id": "c987dfe0",
   "metadata": {},
   "outputs": [],
   "source": []
  }
 ],
 "metadata": {
  "kernelspec": {
   "display_name": "Python 3 (ipykernel)",
   "language": "python",
   "name": "python3"
  },
  "language_info": {
   "codemirror_mode": {
    "name": "ipython",
    "version": 3
   },
   "file_extension": ".py",
   "mimetype": "text/x-python",
   "name": "python",
   "nbconvert_exporter": "python",
   "pygments_lexer": "ipython3",
   "version": "3.8.12"
  },
  "toc": {
   "base_numbering": 1,
   "nav_menu": {},
   "number_sections": true,
   "sideBar": true,
   "skip_h1_title": false,
   "title_cell": "Table of Contents",
   "title_sidebar": "Contents",
   "toc_cell": false,
   "toc_position": {},
   "toc_section_display": true,
   "toc_window_display": false
  }
 },
 "nbformat": 4,
 "nbformat_minor": 5
}
