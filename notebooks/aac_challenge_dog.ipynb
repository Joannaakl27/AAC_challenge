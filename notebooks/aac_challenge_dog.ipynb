{
 "cells": [
  {
   "cell_type": "markdown",
   "id": "a653592d",
   "metadata": {},
   "source": [
    "# Imports"
   ]
  },
  {
   "cell_type": "code",
   "execution_count": 1,
   "id": "0763f763",
   "metadata": {},
   "outputs": [],
   "source": [
    "import pandas as pd\n",
    "import numpy as np\n",
    "import plotly as plt\n",
    "import seaborn as sns\n",
    "import matplotlib.pyplot as plt\n",
    "import plotly.express as px"
   ]
  },
  {
   "cell_type": "markdown",
   "id": "83e1cc5b",
   "metadata": {},
   "source": [
    "# Reading Raw Data"
   ]
  },
  {
   "cell_type": "code",
   "execution_count": 2,
   "id": "36e554b3",
   "metadata": {},
   "outputs": [],
   "source": [
    "aac_df = pd.read_csv(\"../raw_data/aac_shelter_outcomes.csv\")"
   ]
  },
  {
   "cell_type": "code",
   "execution_count": 3,
   "id": "b9f92e09",
   "metadata": {
    "scrolled": true
   },
   "outputs": [
    {
     "data": {
      "text/plain": [
       "10"
      ]
     },
     "execution_count": 3,
     "metadata": {},
     "output_type": "execute_result"
    }
   ],
   "source": [
    "aac_df.duplicated().sum()"
   ]
  },
  {
   "cell_type": "code",
   "execution_count": 4,
   "id": "903de187",
   "metadata": {},
   "outputs": [],
   "source": [
    "aac_df.drop_duplicates(inplace=True)"
   ]
  },
  {
   "cell_type": "code",
   "execution_count": 5,
   "id": "a118a11a",
   "metadata": {},
   "outputs": [],
   "source": [
    "aac_df.rename(columns = {'datetime':'outcome_datetime', 'monthyear':'outcome_monthyear', }, inplace = True)"
   ]
  },
  {
   "cell_type": "code",
   "execution_count": 6,
   "id": "dc8ba441",
   "metadata": {
    "scrolled": true
   },
   "outputs": [
    {
     "data": {
      "text/plain": [
       "Dog          44240\n",
       "Cat          29415\n",
       "Other         4248\n",
       "Bird           334\n",
       "Livestock        9\n",
       "Name: animal_type, dtype: int64"
      ]
     },
     "execution_count": 6,
     "metadata": {},
     "output_type": "execute_result"
    }
   ],
   "source": [
    "aac_df['animal_type'].value_counts()"
   ]
  },
  {
   "cell_type": "code",
   "execution_count": null,
   "id": "2d173d48",
   "metadata": {},
   "outputs": [],
   "source": [
    "intakes_df = pd.read_csv(\"../raw_data/aac_shelter_intakes.csv\")"
   ]
  },
  {
   "cell_type": "code",
   "execution_count": null,
   "id": "3ee5f097",
   "metadata": {},
   "outputs": [],
   "source": [
    "intakes_df.columns = ['animal_id', 'name', 'intake_datetime', 'intake_monthyear', 'found_location', 'intake_type', 'intake_condition', 'animal_type', 'sex_upon_intake', 'age_upon_intake', 'breed', 'color']"
   ]
  },
  {
   "cell_type": "code",
   "execution_count": null,
   "id": "9ce73583",
   "metadata": {},
   "outputs": [],
   "source": [
    "intakes_df.drop_duplicates(inplace=True)"
   ]
  },
  {
   "cell_type": "code",
   "execution_count": null,
   "id": "cd11590b",
   "metadata": {},
   "outputs": [],
   "source": [
    "intakes_df.drop(labels=['name','animal_type', 'breed', 'color'], axis=1, inplace=True)"
   ]
  },
  {
   "cell_type": "code",
   "execution_count": null,
   "id": "8ae3e4de",
   "metadata": {},
   "outputs": [],
   "source": [
    "aac_new_df = aac_df.merge(intakes_df, on='animal_id', how='left')"
   ]
  },
  {
   "cell_type": "code",
   "execution_count": null,
   "id": "286296e8",
   "metadata": {},
   "outputs": [],
   "source": [
    "aac_new_df.isna().sum()"
   ]
  },
  {
   "cell_type": "markdown",
   "id": "b4b846c9",
   "metadata": {},
   "source": [
    "# Extracting Dog Data Only"
   ]
  },
  {
   "cell_type": "code",
   "execution_count": null,
   "id": "dd6325a8",
   "metadata": {},
   "outputs": [],
   "source": [
    "dogs_df = aac_new_df[aac_new_df['animal_type'] == 'Dog'].reset_index()\n",
    "del dogs_df['index']"
   ]
  },
  {
   "cell_type": "code",
   "execution_count": null,
   "id": "af2cbf95",
   "metadata": {},
   "outputs": [],
   "source": [
    "dogs_df.head()"
   ]
  },
  {
   "cell_type": "code",
   "execution_count": null,
   "id": "8a1768a5",
   "metadata": {},
   "outputs": [],
   "source": [
    "dogs_df.isna().sum()"
   ]
  },
  {
   "cell_type": "markdown",
   "id": "36e6f623",
   "metadata": {},
   "source": [
    "# Feature Engineering"
   ]
  },
  {
   "cell_type": "markdown",
   "id": "037fa4ed",
   "metadata": {},
   "source": [
    "Each row represents one outcome, i.e. a dog leaving the shelter. Adding a count column helps to denote the number of observations in each group."
   ]
  },
  {
   "cell_type": "code",
   "execution_count": null,
   "id": "a946dd22",
   "metadata": {},
   "outputs": [],
   "source": [
    "dogs_df['count'] = 1"
   ]
  },
  {
   "cell_type": "markdown",
   "id": "9bc2c24f",
   "metadata": {},
   "source": [
    "The sex_upon_outcome column combines two information, the sex of the dog and whether it was Spayed/Neutered. This Variable could be split in two to allow for more granular data analysis."
   ]
  },
  {
   "cell_type": "code",
   "execution_count": null,
   "id": "0e9bcfd0",
   "metadata": {},
   "outputs": [],
   "source": [
    "dogs_df['sex'] = np.where(dogs_df['sex_upon_outcome'].str.contains('Male'), 'Male', 'Female')\n",
    "dogs_df['sterilized'] = np.where(dogs_df['sex_upon_outcome'].str.contains('Intact'), 'No', 'Yes')"
   ]
  },
  {
   "cell_type": "markdown",
   "id": "ccecdc57",
   "metadata": {},
   "source": [
    "The dog's age upon outcome is given in a format that is not very suitable for data analysis. It is given as an estimation in \"days\", \"weeks\", \"months\" and \"years\". "
   ]
  },
  {
   "cell_type": "code",
   "execution_count": null,
   "id": "d0f18160",
   "metadata": {},
   "outputs": [],
   "source": [
    "dogs_df['age_upon_outcome'].head()"
   ]
  },
  {
   "cell_type": "markdown",
   "id": "d83d246c",
   "metadata": {},
   "source": [
    "To make it more suitable for analysis, the data needs to be converted to total number of days and then can be converted to months or years as needed."
   ]
  },
  {
   "cell_type": "code",
   "execution_count": null,
   "id": "e819b466",
   "metadata": {},
   "outputs": [],
   "source": [
    "dogs_df = dogs_df[dogs_df['age_upon_outcome'] != 'NULL']\n",
    "dogs_df['periods'], dogs_df['period_range'] = dogs_df['age_upon_outcome'].str.split(' ').str[0].fillna(0).astype(int), dogs_df['age_upon_outcome'].str.split(' ').str[1].fillna(0)"
   ]
  },
  {
   "cell_type": "code",
   "execution_count": null,
   "id": "274dac3b",
   "metadata": {},
   "outputs": [],
   "source": [
    "dogs_df['period_range'].unique()"
   ]
  },
  {
   "cell_type": "code",
   "execution_count": null,
   "id": "e3bc7c57",
   "metadata": {},
   "outputs": [],
   "source": [
    "dogs_df['period_range'] = np.where(dogs_df['period_range'].str.contains('day'), 1, \n",
    "                                   np.where(dogs_df['period_range'].str.contains('week'), 7, \n",
    "                                            np.where(dogs_df['period_range'].str.contains('month'), 30, \n",
    "                                                     np.where(dogs_df['period_range'].str.contains('year'), 365, 0)))).astype(int)\n",
    "\n",
    "dogs_df['outcome_age_days'] = dogs_df['period_range'] * dogs_df['periods']\n",
    "dogs_df['outcome_age_years'] = dogs_df['outcome_age_days'] / 365"
   ]
  },
  {
   "cell_type": "code",
   "execution_count": null,
   "id": "e63269c6",
   "metadata": {},
   "outputs": [],
   "source": [
    "dogs_df"
   ]
  },
  {
   "cell_type": "code",
   "execution_count": null,
   "id": "aa24f28e",
   "metadata": {},
   "outputs": [],
   "source": [
    "fig = px.histogram(dogs_df, x=\"outcome_age_years\",  nbins=15)\n",
    "fig.show()"
   ]
  },
  {
   "cell_type": "markdown",
   "id": "69b109b7",
   "metadata": {},
   "source": [
    "In the shelter environment, puppies, defined as dogs of approximately 1 year of age or less, are adopted much quicker than adult dogs."
   ]
  },
  {
   "cell_type": "code",
   "execution_count": null,
   "id": "e7b7762e",
   "metadata": {},
   "outputs": [],
   "source": [
    "dogs_df['classification_upon_outcome'] = np.where(dogs_df['outcome_age_years'] >= 1, 'Dog', 'Puppy')"
   ]
  },
  {
   "cell_type": "code",
   "execution_count": null,
   "id": "590e5165",
   "metadata": {},
   "outputs": [],
   "source": [
    "dogs_df"
   ]
  },
  {
   "cell_type": "markdown",
   "id": "44cb0288",
   "metadata": {},
   "source": [
    "Dog breed"
   ]
  },
  {
   "cell_type": "code",
   "execution_count": null,
   "id": "9aee0b7f",
   "metadata": {},
   "outputs": [],
   "source": [
    "dogs_df['breed'].value_counts()"
   ]
  },
  {
   "cell_type": "code",
   "execution_count": null,
   "id": "81b94ace",
   "metadata": {},
   "outputs": [],
   "source": [
    "fig = px.histogram(dogs_df, x=\"breed\", )\n",
    "fig.show()"
   ]
  },
  {
   "cell_type": "code",
   "execution_count": null,
   "id": "539bedc3",
   "metadata": {},
   "outputs": [],
   "source": [
    "dogs_df['breed'] = dogs_df['breed'].str.lower().str.replace('mix', '')"
   ]
  },
  {
   "cell_type": "code",
   "execution_count": null,
   "id": "ec079e44",
   "metadata": {},
   "outputs": [],
   "source": [
    "dogs_df['breed'].value_counts()"
   ]
  },
  {
   "cell_type": "code",
   "execution_count": null,
   "id": "e19888e4",
   "metadata": {},
   "outputs": [],
   "source": [
    "dogs_df = pd.concat([dogs_df, \n",
    "                     dogs_df['breed'].str.split('/', expand=True).rename(columns={0:'breed1', 1:'breed2'})], \n",
    "                    axis=1)"
   ]
  },
  {
   "cell_type": "code",
   "execution_count": null,
   "id": "9fe4c65d",
   "metadata": {},
   "outputs": [],
   "source": [
    "dogs_df['breed1'].value_counts()"
   ]
  },
  {
   "cell_type": "code",
   "execution_count": null,
   "id": "97f1c4fc",
   "metadata": {},
   "outputs": [],
   "source": [
    "dogs_df['breed2'].value_counts()"
   ]
  },
  {
   "cell_type": "code",
   "execution_count": null,
   "id": "458ff646",
   "metadata": {},
   "outputs": [],
   "source": []
  }
 ],
 "metadata": {
  "kernelspec": {
   "display_name": "Python 3 (ipykernel)",
   "language": "python",
   "name": "python3"
  },
  "language_info": {
   "codemirror_mode": {
    "name": "ipython",
    "version": 3
   },
   "file_extension": ".py",
   "mimetype": "text/x-python",
   "name": "python",
   "nbconvert_exporter": "python",
   "pygments_lexer": "ipython3",
   "version": "3.8.12"
  },
  "toc": {
   "base_numbering": 1,
   "nav_menu": {},
   "number_sections": true,
   "sideBar": true,
   "skip_h1_title": false,
   "title_cell": "Table of Contents",
   "title_sidebar": "Contents",
   "toc_cell": false,
   "toc_position": {},
   "toc_section_display": true,
   "toc_window_display": false
  }
 },
 "nbformat": 4,
 "nbformat_minor": 5
}
